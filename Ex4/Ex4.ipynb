{
 "cells": [
  {
   "cell_type": "markdown",
   "metadata": {},
   "source": [
    "# Task: Replace the third-party library used to clean the data with regular expressions in the `clean_text()` implementation\n",
    "\n",
    "\n",
    "The method should take in raw text from the FakeNews corpus and return cleaned text. By cleaned text, we mean the following:\n",
    "- it should not contain multiple white spaces, tabs or new lines\n",
    "- all words must be lowercased\n",
    "- numbers, dates, emails and urls should be replaced by < NUM >, < DATE >, < EMAIL > AND < URL > respectively\n",
    "\n"
   ]
  },
  {
   "cell_type": "code",
   "execution_count": 1,
   "metadata": {},
   "outputs": [],
   "source": [
    "def clean_text(content):\n",
    "    \n",
    "    # Set all words to be lowercased\n",
    "    clean_text = content.lower()\n",
    "    \n",
    "    \n",
    "    # Clean dates \n",
    "    date1 = r\"\\b(?:jan(?:uary)?|feb(?:ruary)?|mar(?:ch)?|apr(?:il)?|may|jun(?:e)?|jul(?:y)?|aug(?:ust)?|sep(?:tember)?|oct(?:ober)?|(nov|dec)(?:ember)?) (?:[\\d]{1, 2}), (?:1\\d{3}|2\\d{3})(?=\\D|$)\" # feb(ruary) 10, 2010\n",
    "    date2 = r\"\\b(?:jan|feb|mar|apr|may|jun|jul|aug|sep|oct|nov|dec?). (?:[\\d]{1, 2}), (?:1\\d{3}|2\\d{3})(?=\\D|$)\" # Feb. 10, 2010\n",
    "    date3 = r\"\\b(?:jan(?:uary)?|feb(?:ruary)?|mar(?:ch)?|apr(?:il)?|may|jun(?:e)?|jul(?:y)?|aug(?:ust)?|sep(?:tember)?|oct(?:ober)?|(nov|dec)(?:ember)?) (?:[\\d]{1,2}) (?:1\\d{3}|2\\d{3})(?=\\D|$)\" # June 12 2016\n",
    "    date4 = r\"\\b(?:[\\d]{1, 2}) (?:jan(?:uary)?|feb(?:ruary)?|mar(?:ch)?|apr(?:il)?|may|jun(?:e)?|jul(?:y)?|aug(?:ust)?|sep(?:tember)?|oct(?:ober)?|(nov|dec)(?:ember)?) (?:1\\d{3}|2\\d{3})(?=\\D|$)\" # 31 Dec 2017\n",
    "    date5 = r\"\\b(?:jan(?:uary)?|feb(?:ruary)?|mar(?:ch)?|apr(?:il)?|may|jun(?:e)?|jul(?:y)?|aug(?:ust)?|sep(?:tember)?|oct(?:ober)?|(nov|dec)(?:ember)?) (?:1\\d{3}|2\\d{3})(?=\\D|$)\"  # July 2015\n",
    "    date6 = r\"\\b(?:jan(?:uary)?|feb(?:ruary)?|mar(?:ch)?|apr(?:il)?|may|jun(?:e)?|jul(?:y)?|aug(?:ust)?|sep(?:tember)?|oct(?:ober)?|(nov|dec)(?:ember)?) (?:[\\d]{1,2})(?=\\D|$)\"  # June 27\n",
    "    date7 = r\"\\b(?:jan(?:uary)?|feb(?:ruary)?|mar(?:ch)?|apr(?:il)?|may|jun(?:e)?|jul(?:y)?|aug(?:ust)?|sep(?:tember)?|oct(?:ober)?|(nov|dec)(?:ember)?) of (?:1\\d{3}|2\\d{3})(?=\\D|$)\" #Aug(ust) of 2014\n",
    "    date8 = r\"[\\d]{1,2}/[\\d]{1,2}/[\\d]{4}\" # 20/20/2020\n",
    "    date9 = r\"[\\d]{1,2}-[\\d]{1,2}-[\\d]{4}\" # 20-20-2020\n",
    "    date_patterns = [date1, date2, date3, date4, date5, date6, date7, date8, date9]\n",
    "    \n",
    "    for pattern in date_patterns:\n",
    "        clean_text = re.sub(pattern, ' <DATE> ', clean_text)\n",
    "    \n",
    "    \n",
    "    # Clean email\n",
    "    email1 = r'([\\w0-9._-]+@[\\w0-9._-]+\\.[\\w0-9_-]+)'\n",
    "    \n",
    "    clean_text = re.sub(email1, ' <EMAIL> ', clean_text)\n",
    "    \n",
    "    \n",
    "    # Clean URLs \n",
    "    url1 = r'http[s]?://(?:[a-zA-Z]|[0-9]|[$-_@.&+]|[!*\\(\\),]|(?:%[0-9a-fA-F][0-9a-fA-F]))+'\n",
    "    clean_text = re.sub(url1, ' <URL> ', clean_text)\n",
    "    \n",
    "    \n",
    "    # Clean numbers\n",
    "    num1 = r'[0-9]+'\n",
    "    clean_text = re.sub(num1, ' <NUM> ', clean_text)\n",
    "    \n",
    "    \n",
    "    # Clean multiple white spaces, tabs, and newlines\n",
    "    space1 = r\"\\s+\"\n",
    "    clean_text = re.sub(space1, ' ', clean_text)\n",
    "    \n",
    "    \n",
    "    return clean_text"
   ]
  },
  {
   "cell_type": "code",
   "execution_count": null,
   "metadata": {},
   "outputs": [],
   "source": []
  }
 ],
 "metadata": {
  "kernelspec": {
   "display_name": "Python 3",
   "language": "python",
   "name": "python3"
  },
  "language_info": {
   "codemirror_mode": {
    "name": "ipython",
    "version": 3
   },
   "file_extension": ".py",
   "mimetype": "text/x-python",
   "name": "python",
   "nbconvert_exporter": "python",
   "pygments_lexer": "ipython3",
   "version": "3.6.9"
  }
 },
 "nbformat": 4,
 "nbformat_minor": 2
}
